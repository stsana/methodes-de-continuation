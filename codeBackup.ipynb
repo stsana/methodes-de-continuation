{
 "cells": [
  {
   "cell_type": "code",
   "execution_count": null,
   "metadata": {},
   "outputs": [],
   "source": [
    "Ainsi $\\forall x\\geq 0$, on a $f^{'}(x)\\leq ck_a+k_e\\hspace{40px}$ et $\\hspace{40px}\\forall x\\in [0,x_1]$, on a $k_ak_e\\leq f(x)\\leq f(x_1)$\n",
    "\n",
    "   Posons $F(x)=(f(x))^{1/3}$, on a $F^{'}(x)=\\frac{1}{3}f^{'}(x)(f(x))^{-2/3}\\leq \\frac{1}{3}(ck_a+k_e)(f(x))^{-2/3}$\n",
    "\n",
    "Or, f est à valeurs strictement positives sur $[0,x_1]$ et la fonction $x:\\longmapsto x^{-2/3}$ étant décroissante sur $]0,+\\infty[$, donc la fonction $g:x\\longmapsto (f(x))^{-2/3}$ est bornée su $[0,x_1]$. Pour tout $0\\leq x \\leq x_1$, on a  $g(0)\\geq g(x) \\geq g(x_1)$. Donc g est majorée sur $[0,x_1]$ par:<br>\n",
    "<br>\n",
    "$g(0)=(f(0))^{-2/3}$ et on a $f(0)=k_ak_e$.\n",
    "\n",
    "Ce qui nous donne $F^{'}(x)\\leq K$ où $K=\\frac{1}{3}(ck_a+k_e)(k_ak_e)^{-2/3}$.\n",
    "\n",
    "Ainsi, d'après le [__l'Inégalité des Accroissements Finis__](https://fr.wikipedia.org/wiki/Th%C3%A9or%C3%A8me_des_accroissements_finis?oldformat=true), on a :\n",
    "\n",
    "$\\forall x,y \\in [0,x_1] \\hspace{40px} \\lvert F(x)-F(y) \\rvert \\leq K\\lvert x-y \\rvert$\n",
    "\n",
    "$K\\leq 1 \\iff \\frac{1}{3}.(ck_a+k_e)(k_ak_e)^{-2/3}\\leq 1 \\iff ck_a+k_e \\leq 3(k_ak_e)^{2/3}\\iff c\\leq \\frac{3}{k_a}.((k_ak_e)^{2/3}-k_e)$\n",
    "\n",
    "Posons $c_1 = \\frac{3}{k_a}.((k_ak_e)^{2/3}-k_e)$\n",
    "\n",
    "Donc la fonction F est K-Lipschitzienne sur $[0,x_1]$ et en particulier elle est contractant sur $[0,x_1]$ lorsque $c\\in [0, c_1]$ \n",
    "\n",
    "Il en découle que F admet un unique point fixe. Autrement dit l'équation $F(x)=x$, qui est équivalente à $P(x)=0$, admet une unique solution sur $[0,x_1]$"
   ]
  },
  {
   "cell_type": "code",
   "execution_count": null,
   "metadata": {},
   "outputs": [],
   "source": [
    "$[A^-]=[H_3O^+]-\\frac{k_e}{[H_3O^+]} \\hspace{40px}(*)$\n",
    "\n",
    "et $[A^-]=c-\\frac{1}{k_a}([H_3O^+]^2-k_e)\\hspace{40px}(**)$\n",
    "\n",
    "\n",
    "$\\hspace{40px}[H_3O+]\\leqslant 1 \\iff \\frac{1}{[H_3O+]}\\geq 1 \\iff \\frac{k_e}{[H_3O+]}\\geq k_e \\iff -\\frac{k_e}{[H_3O+]}\\leqslant -k_e \\iff [H_3O^+]-\\frac{k_e}{[H_3O+]}\\leqslant -k_e+[H_3O^+]\\leqslant 1-k_e$\n",
    "\n",
    "Ainsi,on a $\\hspace{40px}[H_3O^+]\\leqslant 1 \\iff [H_3O^+]-\\frac{k_e}{[H_3O+]}\\leqslant -k_e+[H_3O^+]\\leqslant 1-k_e$\n",
    "\n",
    "$(*)$ devient $\\hspace{40px}[A^-]\\leqslant 1-k_e$\n",
    "\n",
    "Dans $(**)$, on obtient:$\\hspace{40px}c-\\frac{1}{k_a}([H_3O^+]^2-k_e)\\leqslant 1-k_e$\n",
    "\n",
    "$\\hspace{135px}\\iff c\\leqslant 1-k_e+\\frac{1}{k_a}[H_3O^+]^2-\\frac{k_e}{k_a}$\n",
    "\n",
    "En majorant $[H_3O^+]$ par 1, on obtient $c\\leqslant 1-k_e+\\frac{1}{k_a}-\\frac{k_e}{k_a}=\\frac{(1-k_e)(1+k_a)}{k_a}$\n"
   ]
  }
 ],
 "metadata": {
  "kernelspec": {
   "display_name": "Python 3",
   "language": "python",
   "name": "python3"
  },
  "language_info": {
   "codemirror_mode": {
    "name": "ipython",
    "version": 3
   },
   "file_extension": ".py",
   "mimetype": "text/x-python",
   "name": "python",
   "nbconvert_exporter": "python",
   "pygments_lexer": "ipython3",
   "version": "3.7.6"
  }
 },
 "nbformat": 4,
 "nbformat_minor": 4
}
